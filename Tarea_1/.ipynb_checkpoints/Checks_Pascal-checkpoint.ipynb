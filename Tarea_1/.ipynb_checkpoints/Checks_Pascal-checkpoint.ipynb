{
 "cells": [
  {
   "cell_type": "code",
   "execution_count": 1,
   "metadata": {},
   "outputs": [],
   "source": [
    "import funciones as fun"
   ]
  },
  {
   "cell_type": "code",
   "execution_count": 2,
   "metadata": {},
   "outputs": [
    {
     "data": {
      "text/plain": [
       "3628800"
      ]
     },
     "execution_count": 2,
     "metadata": {},
     "output_type": "execute_result"
    }
   ],
   "source": [
    "fun.factorial(10)"
   ]
  },
  {
   "cell_type": "code",
   "execution_count": 211,
   "metadata": {},
   "outputs": [
    {
     "name": "stdout",
     "output_type": "stream",
     "text": [
      "Calcula bien los factoriales\n"
     ]
    }
   ],
   "source": [
    "if fun.factorial(10) == 3628800 and fun.factorial(15) == 1307674368000: print('Calcula bien los factoriales')"
   ]
  },
  {
   "cell_type": "code",
   "execution_count": 213,
   "metadata": {},
   "outputs": [
    {
     "name": "stdout",
     "output_type": "stream",
     "text": [
      "Calcula bien los factoriales\n"
     ]
    }
   ],
   "source": [
    "if fun.binomial(10,3) == 120 and fun.binomial(60,50) == 75394027566: print('Calcula bien los coeficientes binomiales')"
   ]
  },
  {
   "cell_type": "code",
   "execution_count": 11,
   "metadata": {},
   "outputs": [
    {
     "data": {
      "text/plain": [
       "100891344545564202071714955264"
      ]
     },
     "execution_count": 11,
     "metadata": {},
     "output_type": "execute_result"
    }
   ],
   "source": [
    "fun.binomial(100,50)"
   ]
  },
  {
   "cell_type": "code",
   "execution_count": 4,
   "metadata": {},
   "outputs": [
    {
     "data": {
      "text/plain": [
       "[[1],\n",
       " [1, 1],\n",
       " [1, 2, 1],\n",
       " [1, 3, 3, 1],\n",
       " [1, 4, 6, 4, 1],\n",
       " [1, 5, 10, 10, 5, 1],\n",
       " [1, 6, 15, 20, 15, 6, 1],\n",
       " [1, 7, 21, 35, 35, 21, 7, 1],\n",
       " [1, 8, 28, 56, 70, 56, 28, 8, 1],\n",
       " [1, 9, 36, 84, 126, 126, 84, 36, 9, 1],\n",
       " [1, 10, 45, 120, 210, 252, 210, 120, 45, 10, 1]]"
      ]
     },
     "execution_count": 4,
     "metadata": {},
     "output_type": "execute_result"
    }
   ],
   "source": [
    "fun.Pascal(10)"
   ]
  },
  {
   "cell_type": "code",
   "execution_count": 6,
   "metadata": {},
   "outputs": [
    {
     "name": "stdout",
     "output_type": "stream",
     "text": [
      "n=0                     1                 \n",
      "\n",
      "n=1                    1 1                \n",
      "\n",
      "n=2                   1 2 1               \n",
      "\n",
      "n=3                  1 3 3 1              \n",
      "\n",
      "n=4                 1 4 6 4 1             \n",
      "\n",
      "n=5               1 5 10 10 5 1           \n",
      "\n",
      "n=6              1 6 15 20 15 6 1         \n",
      "\n",
      "n=7            1 7 21 35 35 21 7 1        \n",
      "\n",
      "n=8           1 8 28 56 70 56 28 8 1      \n",
      "\n",
      "n=9        1 9 36 84 126 126 84 36 9 1    \n",
      "\n",
      "n=10    1 10 45 120 210 252 210 120 45 10 1\n",
      "\n"
     ]
    }
   ],
   "source": [
    "fun.draw_pascal(10)"
   ]
  },
  {
   "cell_type": "markdown",
   "metadata": {},
   "source": [
    "La probabilidad de que cuando se lanza una moneda n veces resulte un numero k de veces cara (sello) esta dada por la expresion.\n",
    "\n",
    "$$\\frac{\\binom{n}{k}}{2^n}$$\n",
    "\n",
    "Usando el modulo que ya escribio escriba una rutina dentro de Tarea1 que calcule e imprima:\n",
    "\n",
    "- (a) la probabilidad de que si se hace este experimento 100 veces, el resultado sean 10 veces cara, \n",
    "- (b) la probabilidad de que caiga cara mas de 30 veces."
   ]
  },
  {
   "cell_type": "code",
   "execution_count": null,
   "metadata": {},
   "outputs": [],
   "source": [
    "(fun.binomial(n,k))/(2**n)"
   ]
  },
  {
   "cell_type": "code",
   "execution_count": 207,
   "metadata": {},
   "outputs": [],
   "source": [
    "def probability(n, k, more=False):\n",
    "    '''Por defecto calcula la probabilidad de que al lanzar una moneda n veces,\n",
    "    resulte un numero k de veces cara (sello).\n",
    "    more = mayor que k'''\n",
    "    prob = 0\n",
    "    var = ''\n",
    "    if more == True: \n",
    "        var='más de'\n",
    "        for i in range(k,n): #experimento n veces, caiga k veces\n",
    "            prob += (fun.binomial(n,i))/(2**n)\n",
    "    else: \n",
    "        prob = (fun.binomial(n,k))/(2**n)\n",
    "        \n",
    "    print(f\"la probabilidad de que si se hace lanza una moneda {n:.0f} veces, el resultado sea {var} {k} veces cara es de aproximadamente: {round(prob*100,4)}%\")\n",
    "    \n",
    "    \n",
    "    "
   ]
  },
  {
   "cell_type": "code",
   "execution_count": 208,
   "metadata": {},
   "outputs": [
    {
     "name": "stdout",
     "output_type": "stream",
     "text": [
      "la probabilidad de que si se hace lanza una moneda 100 veces, el resultado sea  10 veces cara es de aproximadamente: 0.0%\n"
     ]
    }
   ],
   "source": [
    "probability(100,10)"
   ]
  },
  {
   "cell_type": "code",
   "execution_count": 209,
   "metadata": {},
   "outputs": [
    {
     "name": "stdout",
     "output_type": "stream",
     "text": [
      "la probabilidad de que si se hace lanza una moneda 100 veces, el resultado sea  30 veces cara es de aproximadamente: 0.0023%\n"
     ]
    }
   ],
   "source": [
    "probability(100,30)"
   ]
  },
  {
   "cell_type": "code",
   "execution_count": 210,
   "metadata": {},
   "outputs": [
    {
     "name": "stdout",
     "output_type": "stream",
     "text": [
      "la probabilidad de que si se hace lanza una moneda 100 veces, el resultado sea más de 30 veces cara es de aproximadamente: 99.9984%\n"
     ]
    }
   ],
   "source": [
    "probability(100,30, True)"
   ]
  },
  {
   "cell_type": "code",
   "execution_count": null,
   "metadata": {},
   "outputs": [],
   "source": []
  }
 ],
 "metadata": {
  "kernelspec": {
   "display_name": "Python 3",
   "language": "python",
   "name": "python3"
  },
  "language_info": {
   "codemirror_mode": {
    "name": "ipython",
    "version": 3
   },
   "file_extension": ".py",
   "mimetype": "text/x-python",
   "name": "python",
   "nbconvert_exporter": "python",
   "pygments_lexer": "ipython3",
   "version": "3.7.6"
  }
 },
 "nbformat": 4,
 "nbformat_minor": 4
}
