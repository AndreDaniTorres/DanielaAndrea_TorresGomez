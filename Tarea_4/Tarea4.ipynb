{
 "cells": [
  {
   "cell_type": "markdown",
   "metadata": {},
   "source": [
    "# TAREA 4\n",
    "\n",
    "### PANDAS: Zona de habitabilidad de exoplanetas \n",
    "\n",
    "Base de datos de exoplanetas encontrados hasta el momento.\n",
    "\n"
   ]
  },
  {
   "cell_type": "code",
   "execution_count": null,
   "metadata": {},
   "outputs": [],
   "source": [
    "import pandas as pd\n",
    "import numpy as np"
   ]
  },
  {
   "cell_type": "code",
   "execution_count": null,
   "metadata": {},
   "outputs": [],
   "source": [
    "exo = pd.read_csv(\"exoplanets.csv\")"
   ]
  },
  {
   "cell_type": "code",
   "execution_count": null,
   "metadata": {},
   "outputs": [],
   "source": [
    "#Constantes a Utilizar\n",
    "\n",
    "sigma = 5.670374419*(10**(-8)) * (696350000)**2  #Constante de Stefan–Boltzmann en radios solares\n",
    "sun_lum = 3.83*10**26   #luminosidad del Sol\n",
    "\n",
    "Ts = 5780 \n",
    "ai = 2.7619e-5\n",
    "bi = 3.8095e-9\n",
    "ao = 1.3786e-4\n",
    "bo = 1.4286e-9\n",
    "ris = 0.72\n",
    "ros = 1.77"
   ]
  },
  {
   "cell_type": "code",
   "execution_count": null,
   "metadata": {},
   "outputs": [],
   "source": [
    "exo.head()"
   ]
  },
  {
   "cell_type": "code",
   "execution_count": null,
   "metadata": {},
   "outputs": [],
   "source": [
    "exo_zone = exo[[\"NAME\",\"TEFF\", \"MASS\", \"A\", \"DENSITY\", \"R\", \"STAR\", \"MSTAR\", \"RSTAR\", \"BINARY\"]]\n",
    "exo_zone.head()"
   ]
  },
  {
   "cell_type": "markdown",
   "metadata": {},
   "source": [
    "Cada columna coresponde a:\n",
    "\n",
    "- NAME\n",
    "- TEFF: temperatura efectiva de la estrella.\n",
    "- MASS: Masa del planeta.\n",
    "- A: semieje mayor.\n",
    "- DENSITY: densidad.\n",
    "- R: radio del planeta.\n",
    "- STAR: Nombre de la estrella.\n",
    "- MSTAR: Masa de la estrella.\n",
    "- RSTAR: Radio de la estrella.\n",
    "- BINARY: indica si el sistema es binario o no."
   ]
  },
  {
   "cell_type": "code",
   "execution_count": null,
   "metadata": {},
   "outputs": [],
   "source": [
    "#Observar los datos de la columna que dice si el sistema es binario o no\n",
    "exo_zone[\"BINARY\"].value_counts()"
   ]
  },
  {
   "cell_type": "code",
   "execution_count": null,
   "metadata": {},
   "outputs": [],
   "source": [
    "#Descarte los sistemas binarios i.e. BINARY==0.\n",
    "exo_zone = exo_zone[exo_zone[\"BINARY\"] != 0.0]\n",
    "exo_zone[\"BINARY\"].value_counts()"
   ]
  },
  {
   "cell_type": "code",
   "execution_count": null,
   "metadata": {},
   "outputs": [],
   "source": [
    "#MASSE: La masa de los planetas de masas de Jupiter a unidades de masa de la Tierra -> 1MJ = 317.8MT\n",
    "exo_zone[\"MASSE\"] = exo_zone[[\"MASS\"]]*(317.8) "
   ]
  },
  {
   "cell_type": "code",
   "execution_count": null,
   "metadata": {},
   "outputs": [],
   "source": [
    "#RE: El radio de los planetas de radios de Jupiter a radios terrestres -> 1RJ = 11.209RT\n",
    "exo_zone[\"RE\"] = exo_zone[[\"R\"]]*(11.209)"
   ]
  },
  {
   "cell_type": "code",
   "execution_count": null,
   "metadata": {},
   "outputs": [],
   "source": [
    "# LUM: Luminosidad de una estrella (L = 4πR^2σT^4), R es el radio de la estrella, σ la constante de Stefan-Boltzmann\n",
    "#Luminosidad está Watts, por lo tanto se pasa a Luminosidad respecto a la del Sol --> LS = 3.83MW\n",
    "\n",
    "exo_zone[\"LUM\"] = (4*np.pi*(exo_zone[\"RSTAR\"]**2)*sigma*(exo_zone[\"TEFF\"]**4))/sun_lum "
   ]
  },
  {
   "cell_type": "markdown",
   "metadata": {},
   "source": [
    "Límites interior (ri) y exterior (ro) de la zona de habitabilidad:\n",
    "\n",
    "$$ ri = [r_{is} − a_i(T_{eff} − T_s) − bi(T_{eff} − T_s)^2] \\sqrt{L}$$\n",
    "$$ ro = [r_{os} − a_o(T_{eff} − T_s) − bo(T_{eff} − T_s)^2] \\sqrt{L}$$"
   ]
  },
  {
   "cell_type": "code",
   "execution_count": null,
   "metadata": {},
   "outputs": [],
   "source": [
    "#Límites de la zona de habitabilidad y asigne a estos las columnas ri y ro.\n",
    "exo_zone[\"RI\"] = (ris - ai*(exo_zone[\"TEFF\"] - Ts) - bi*(exo_zone[\"TEFF\"] - Ts)**2)*exo_zone[\"LUM\"].apply(np.sqrt)\n",
    "exo_zone[\"RO\"] =(ros - ao*(exo_zone[\"TEFF\"] - Ts) - bo*(exo_zone[\"TEFF\"] - Ts)**2)*exo_zone[\"LUM\"].apply(np.sqrt)"
   ]
  },
  {
   "cell_type": "code",
   "execution_count": null,
   "metadata": {},
   "outputs": [],
   "source": [
    "#Reinicio índice y observo el nuevo dataframe\n",
    "exo_zone.reset_index(inplace=True)\n",
    "exo_zone.head()"
   ]
  },
  {
   "cell_type": "code",
   "execution_count": null,
   "metadata": {},
   "outputs": [],
   "source": [
    "exo_zone.shape"
   ]
  },
  {
   "cell_type": "code",
   "execution_count": null,
   "metadata": {},
   "outputs": [],
   "source": [
    "#Filtro que seleccione los planetas con alta probabilidad de ser rocosos\n",
    "#Que su densidad sea del orden o mayor que 5 g cm^−3\n",
    "exo_zone[exo_zone[\"DENSITY\"] > 5]"
   ]
  },
  {
   "cell_type": "code",
   "execution_count": null,
   "metadata": {},
   "outputs": [],
   "source": [
    "#Filtro que seleccione los planetas dentro de la zona de habitabilidad.\n",
    "\n",
    "exo_habit = exo_zone[((exo_zone[\"A\"] > exo_zone[\"RI\"]) & (exo_zone[\"A\"] < exo_zone[\"RO\"]) ) == True]\n",
    "exo_habit.head()"
   ]
  },
  {
   "cell_type": "code",
   "execution_count": null,
   "metadata": {},
   "outputs": [],
   "source": [
    "exo_habit.shape  #hay 294 en la zona de habitabilidad"
   ]
  },
  {
   "cell_type": "markdown",
   "metadata": {},
   "source": [
    "Cada columna coresponde a:\n",
    "\n",
    "- NAME\n",
    "- TEFF: temperatura efectiva de la estrella.\n",
    "- MASS: Masa del planeta.\n",
    "- A: semieje mayor.\n",
    "- DENSITY: densidad.\n",
    "- R: radio del planeta.\n",
    "- STAR: Nombre de la estrella.\n",
    "- MSTAR: Masa de la estrella.\n",
    "- RSTAR: Radio de la estrella.\n",
    "- BINARY: indica si el sistema es binario o no.\n",
    "- MASSE: Masa de los planetas en masas de la Tierra. \n",
    "- RE: Radio de los planetas en radios terrestres. \n",
    "- LUM: Luminosidad de la estrella respecto a la del Sol. \n",
    "- RI: Límite interior de la zona de habitabilidad \n",
    "- RO: Límite exterior de la zona de habitabilidad "
   ]
  },
  {
   "cell_type": "code",
   "execution_count": null,
   "metadata": {},
   "outputs": [],
   "source": [
    "#Para los planetas dentro de la zona de habitabilidad:\n",
    "#Masa de las estrellas vs la distancia del planeta a su estrella\n",
    "exo_habit.plot(kind='scatter',x='MSTAR',y='A',color='blue', fontsize =16, figsize=(9,7))\n",
    "\n",
    "#Entre mas masiva, mas lejos se encuentra el planeta de la estrella"
   ]
  },
  {
   "cell_type": "code",
   "execution_count": null,
   "metadata": {},
   "outputs": [],
   "source": [
    "#Distribucion orbital de los planetas (histograma)\n",
    "\n",
    "exo_habit.hist(column='A', figsize=(9,7), bins=15, color=\"violet\", xlabelsize =16, ylabelsize=16)\n"
   ]
  },
  {
   "cell_type": "code",
   "execution_count": null,
   "metadata": {},
   "outputs": [],
   "source": [
    "#planeta con densidad conocida en la zona de habitabilidad\n",
    "exo_habit['DENSITY'].value_counts()"
   ]
  },
  {
   "cell_type": "code",
   "execution_count": null,
   "metadata": {},
   "outputs": [],
   "source": [
    "exo_habit['DENSITY'] = exo_habit['DENSITY']/5.51"
   ]
  },
  {
   "cell_type": "code",
   "execution_count": null,
   "metadata": {},
   "outputs": [],
   "source": [
    "#Densidad Vs masa de las estrellas para todos los planetas \n",
    "#(dado que solo hay un planeta con densidad conocida, en la zona de habitabilidad)\n",
    "\n",
    "exo_zone.plot(kind='scatter',x='DENSITY',y='MSTAR',color='green', fontsize =16, figsize=(9,7))\n",
    "\n",
    "#hay muchos más planetas de baja densidad, probablemente gaseosos, para todo tipo de masas de estrellas"
   ]
  },
  {
   "cell_type": "code",
   "execution_count": null,
   "metadata": {},
   "outputs": [],
   "source": [
    "#Distancia a la estrella Vs Temperatura efectiva.\n",
    "\n",
    "exo_habit.plot(kind='scatter',x='A',y='TEFF', fontsize =16, figsize=(9,7))"
   ]
  },
  {
   "cell_type": "code",
   "execution_count": null,
   "metadata": {},
   "outputs": [],
   "source": []
  },
  {
   "cell_type": "code",
   "execution_count": null,
   "metadata": {},
   "outputs": [],
   "source": []
  },
  {
   "cell_type": "code",
   "execution_count": null,
   "metadata": {},
   "outputs": [],
   "source": []
  }
 ],
 "metadata": {
  "kernelspec": {
   "display_name": "Python 3",
   "language": "python",
   "name": "python3"
  },
  "language_info": {
   "codemirror_mode": {
    "name": "ipython",
    "version": 3
   },
   "file_extension": ".py",
   "mimetype": "text/x-python",
   "name": "python",
   "nbconvert_exporter": "python",
   "pygments_lexer": "ipython3",
   "version": "3.7.6"
  }
 },
 "nbformat": 4,
 "nbformat_minor": 4
}
